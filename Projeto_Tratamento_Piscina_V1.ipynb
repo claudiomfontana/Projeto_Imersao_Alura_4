{
  "nbformat": 4,
  "nbformat_minor": 0,
  "metadata": {
    "colab": {
      "provenance": [],
      "authorship_tag": "ABX9TyOKCk3hxiGIPz/h5MK3JCsD",
      "include_colab_link": true
    },
    "kernelspec": {
      "name": "python3",
      "display_name": "Python 3"
    },
    "language_info": {
      "name": "python"
    }
  },
  "cells": [
    {
      "cell_type": "markdown",
      "metadata": {
        "id": "view-in-github",
        "colab_type": "text"
      },
      "source": [
        "<a href=\"https://colab.research.google.com/github/claudiomfontana/Projeto_Imersao_Alura_4/blob/main/Projeto_Tratamento_Piscina_V1.ipynb\" target=\"_parent\"><img src=\"https://colab.research.google.com/assets/colab-badge.svg\" alt=\"Open In Colab\"/></a>"
      ]
    },
    {
      "cell_type": "code",
      "execution_count": 15,
      "metadata": {
        "id": "GbiUW3x5TAxo"
      },
      "outputs": [],
      "source": [
        "import datetime\n",
        "import math\n",
        "import google.generativeai as genai\n",
        "from google.colab import userdata\n",
        "api_key = userdata.get(\"SECRET_KEY\")\n",
        "genai.configure(api_key=api_key)\n",
        "\n",
        "# Set up the model\n",
        "generation_config = {\n",
        "  \"temperature\": 0,\n",
        "  \"top_p\": 0.5,\n",
        "  \"top_k\": 0,\n",
        "  \"max_output_tokens\": 8192,\n",
        "}\n",
        "\n",
        "safety_settings = [\n",
        "  {\n",
        "    \"category\": \"HARM_CATEGORY_HARASSMENT\",\n",
        "    \"threshold\": \"BLOCK_NONE\"\n",
        "  },\n",
        "  {\n",
        "    \"category\": \"HARM_CATEGORY_HATE_SPEECH\",\n",
        "    \"threshold\": \"BLOCK_NONE\"\n",
        "  },\n",
        "  {\n",
        "    \"category\": \"HARM_CATEGORY_SEXUALLY_EXPLICIT\",\n",
        "    \"threshold\": \"BLOCK_MEDIUM_AND_ABOVE\"\n",
        "  },\n",
        "  {\n",
        "    \"category\": \"HARM_CATEGORY_DANGEROUS_CONTENT\",\n",
        "    \"threshold\": \"BLOCK_NONE\"\n",
        "  },\n",
        "]\n",
        "\n",
        "model = genai.GenerativeModel(model_name=\"gemini-1.5-pro-latest\",\n",
        "                              generation_config=generation_config,\n",
        "                              safety_settings=safety_settings)\n"
      ]
    },
    {
      "cell_type": "code",
      "source": [
        "chat = model.start_chat(history=[])"
      ],
      "metadata": {
        "id": "tTkLh5IRlah3"
      },
      "execution_count": 2,
      "outputs": []
    },
    {
      "cell_type": "markdown",
      "source": [
        "Informações de referencia e o chatbot\n",
        "*Lembrando que as informações de valores e açoes são para referencias a uam susgestão, não há valores especificos conectados a quantidade de produtos especificos relacionados a um fabricante."
      ],
      "metadata": {
        "id": "SI0OGKXKBd-s"
      }
    },
    {
      "cell_type": "code",
      "source": [
        "# INPUT_SYS são parametros inseridos para que a IA balise as respstas\n",
        "prompt_inicial_inputs = userdata.get(\"INPUT_SYS\")\n",
        "prompt_inicial = prompt_inicial_inputs.split(\",\")\n",
        "print(\"\")\n",
        "print(\"Bem vindo ao chatbot de tratamento de piscina\")\n",
        "print(\"\")\n",
        "print(\"Para começar, digite seu nome:\")\n",
        "print(\"\")\n",
        "input_nome = input(\"\")\n",
        "prompt_inicial.append(input_nome)\n",
        "print(\"\")\n",
        "horario_atual = datetime.datetime.now()\n",
        "if horario_atual.hour < 12:\n",
        "    mensagem_saudação = \"Bom dia!\"\n",
        "elif horario_atual.hour < 18:\n",
        "    mensagem_saudação = \"Boa tarde!\"\n",
        "else:\n",
        "    mensagem_saudação = \"Boa noite!\"\n",
        "print(mensagem_saudação, input_nome)\n",
        "print(\"\")\n",
        "print(\"Antes de começar preciso dize que as informações são apenas sugestões\")\n",
        "print(\"e que você deve sempre seguir recomendações das embalagem de cada produto utilizado no tratamento de sua piscina\")\n",
        "print(\"Portanto é importante você confirmar que esta ciente sobre esta informação\")\n",
        "print(\"\")\n",
        "input_confirmacao = input(\"Digite 1 para SIM e 2 para NÃO :\")\n",
        "if input_confirmacao == \"1\":\n",
        "  print(\"\")\n",
        "  print(\"Obrigado por confirmar\")\n",
        "  print(\"\")\n",
        "  print(\"É importante você ter valores da análise de pH , Alcalinidade Total, Residual de Cloro e o Volume da sua piscina\")\n",
        "  print(\"Quanto mais infomações tiver sobre sua piscina, melhor sera a sugestão apresentada\")\n",
        "  print(\"\")\n",
        "  prompt_inicial_digite = input(\"Digite qual sua duvida sobre tratamento de piscina: \")\n",
        "  prompt_inicial.append(prompt_inicial_digite)\n",
        "  while prompt_inicial != \"sair\":\n",
        "    response = chat.send_message(prompt_inicial)\n",
        "    print(\"\")\n",
        "    print(\"Resposta: \", response.text, \"\\n\")\n",
        "    prompt_inicial = input(\"...\")\n",
        "    print(\"\")\n",
        "    if prompt_inicial == \"Sair\":\n",
        "      print(\"\")\n",
        "      print(\"Obrigado por usar nosso chatbot. \")\n",
        "      print(\"Espero que tenha gostado da nossa conversa. Se precisar de mais informações ou ajuda, estou sempre à disposição. \")\n",
        "      break\n",
        "else :\n",
        "  print(\"\")\n",
        "  print(\"Obrigado por usar nosso chatbot. \")\n",
        "  print(\"Espero pode ajuda você em outra oportunidade. Estou sempre à disposição. \")\n",
        "\n"
      ],
      "metadata": {
        "id": "2cB-Z45clb3U",
        "colab": {
          "base_uri": "https://localhost:8080/"
        },
        "outputId": "c4f4a225-e239-434c-f2c6-c4194b461c77"
      },
      "execution_count": 26,
      "outputs": [
        {
          "output_type": "stream",
          "name": "stdout",
          "text": [
            "\n",
            "Bem vindo ao chatbot de tratamento de piscina\n",
            "\n",
            "Para começar, digite seu nome:\n",
            "\n",
            "Maria\n",
            "\n",
            "Boa noite! Maria\n",
            "\n",
            "Antes de começar preciso dize que as informações são apenas sugestões'\n",
            "e que você deve sempre seguir recomendações das embalagem de cada produto utilizado no tratamento de sua piscina\n",
            "Portanto é importante você confirmar que esta ciente sobre esta informação\n",
            "\n",
            "Digite 1 para SIM e 2 para NÃO :2\n",
            "\n",
            "Obrigado por usar nosso chatbot. \n",
            "Espero que tenha gostado da nossa conversa. Se precisar de mais informações ou ajuda, estou sempre à disposição. \n"
          ]
        }
      ]
    },
    {
      "cell_type": "code",
      "source": [],
      "metadata": {
        "id": "HhZUnYrMz1eF"
      },
      "execution_count": null,
      "outputs": []
    }
  ]
}